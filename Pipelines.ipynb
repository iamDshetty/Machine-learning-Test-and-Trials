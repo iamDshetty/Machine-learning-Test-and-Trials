{
 "cells": [
  {
   "cell_type": "code",
   "execution_count": 1,
   "metadata": {},
   "outputs": [],
   "source": [
    "# Pipeline"
   ]
  },
  {
   "cell_type": "code",
   "execution_count": 11,
   "metadata": {},
   "outputs": [],
   "source": [
    "from sklearn.datasets import load_iris\n",
    "from sklearn.preprocessing import MinMaxScaler\n",
    "from sklearn.preprocessing import StandardScaler\n",
    "from sklearn.linear_model import LogisticRegression\n",
    "from sklearn.model_selection import train_test_split\n",
    "from sklearn.pipeline import Pipeline\n",
    "\n",
    "iris = load_iris()\n",
    "X_train,X_test,y_train,y_test = train_test_split(iris.data,iris.target,test_size=0.2,random_state=42)"
   ]
  },
  {
   "cell_type": "code",
   "execution_count": 20,
   "metadata": {},
   "outputs": [],
   "source": [
    "pipe_mm_lr   =  Pipeline([('minmax',MinMaxScaler()),\n",
    "                   ('lr',LogisticRegression())\n",
    "                   ])\n",
    "pipe_ss_lr = Pipeline([('standar',StandardScaler()),\n",
    "                   ('lr',LogisticRegression())\n",
    "                   ])"
   ]
  },
  {
   "cell_type": "code",
   "execution_count": 22,
   "metadata": {},
   "outputs": [],
   "source": [
    "Best_preprocessor = ''\n",
    "Best_accuracy = 0\n",
    "Best_pipeline = ''"
   ]
  },
  {
   "cell_type": "code",
   "execution_count": 30,
   "metadata": {},
   "outputs": [
    {
     "data": {
      "text/plain": [
       "('Standard Scaler & Logistic Regression', 1.0)"
      ]
     },
     "execution_count": 30,
     "metadata": {},
     "output_type": "execute_result"
    }
   ],
   "source": [
    "pipelines = [pipe_mm_lr,pipe_ss_lr]\n",
    "pipelines_label = [\"MinMax & Logistic Regression\",\"Standard Scaler & Logistic Regression\"]\n",
    "\n",
    "for i,pipes in  enumerate (pipelines):\n",
    "    pipes.fit(X_train,y_train)\n",
    "    #print(f'Accuracy of {pipelines_label[i]} : is {pipes.score(X_test,y_test)}')\n",
    "    if pipes.score(X_test,y_test) > Best_accuracy:\n",
    "        Best_preprocessor=pipelines_label[i]\n",
    "        Best_accuracy = pipes.score(X_test,y_test)\n",
    "        Best_pipeline = pipes\n",
    "\n",
    "    pass\n",
    "Best_preprocessor,Best_accuracy\n"
   ]
  },
  {
   "cell_type": "code",
   "execution_count": 19,
   "metadata": {},
   "outputs": [
    {
     "data": {
      "text/plain": [
       "1.0"
      ]
     },
     "execution_count": 19,
     "metadata": {},
     "output_type": "execute_result"
    }
   ],
   "source": []
  }
 ],
 "metadata": {
  "kernelspec": {
   "display_name": "Python 3",
   "language": "python",
   "name": "python3"
  },
  "language_info": {
   "codemirror_mode": {
    "name": "ipython",
    "version": 3
   },
   "file_extension": ".py",
   "mimetype": "text/x-python",
   "name": "python",
   "nbconvert_exporter": "python",
   "pygments_lexer": "ipython3",
   "version": "3.8.2"
  }
 },
 "nbformat": 4,
 "nbformat_minor": 4
}
