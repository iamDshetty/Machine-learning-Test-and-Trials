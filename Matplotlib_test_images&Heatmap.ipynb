{
 "cells": [
  {
   "cell_type": "code",
   "execution_count": 122,
   "metadata": {},
   "outputs": [
    {
     "data": {
      "text/plain": [
       "<matplotlib.image.AxesImage at 0xd9e6118>"
      ]
     },
     "execution_count": 122,
     "metadata": {},
     "output_type": "execute_result"
    },
    {
     "data": {
      "image/png": "[encoded data removed]",
      "text/plain": [
       "<Figure size 432x288 with 1 Axes>"
      ]
     },
     "metadata": {
      "needs_background": "light"
     },
     "output_type": "display_data"
    }
   ],
   "source": [
    "import matplotlib.pyplot as plt\n",
    "import numpy as np\n",
    "import pandas as pd\n",
    "from PIL import Image\n",
    "#df = open(\"D:/Chandrashekar S/New Volume/Machine learning/Matplotlib/image_5.csv\", 'r')\n",
    "#img = df.readlines() \n",
    "\n",
    "#img = Image.open(\"D:/Chandrashekar S/New Volume/Machine learning/Matplotlib/dog_2D.png\")\n",
    "nimg = np.array([[10,60,80,95,75,120,180,255],[0,10,15,35,90,150,190,245]])\n",
    "\n",
    "#nimg.ndim\n",
    "plt.imshow(nimg)"
   ]
  },
  {
   "cell_type": "code",
   "execution_count": 139,
   "metadata": {},
   "outputs": [
    {
     "data": {
      "image/png": "[encoded data removed]",
      "text/plain": [
       "<Figure size 432x288 with 2 Axes>"
      ]
     },
     "metadata": {
      "needs_background": "light"
     },
     "output_type": "display_data"
    }
   ],
   "source": [
    "#colorbar\n",
    "fig,ax = plt.subplots()\n",
    "img = ax.imshow(nimg,vmin=0.,vmax=255 ,cmap='magma') #cmap=\"tab20\"\n",
    "cbar = fig.colorbar(img)\n",
    "cbar.set_label(\"Elevation\")"
   ]
  },
  {
   "cell_type": "code",
   "execution_count": 151,
   "metadata": {},
   "outputs": [
    {
     "data": {
      "text/plain": [
       "<matplotlib.image.AxesImage at 0xdff1fd0>"
      ]
     },
     "execution_count": 151,
     "metadata": {},
     "output_type": "execute_result"
    },
    {
     "data": {
      "image/png": "[encoded data removed]",
      "text/plain": [
       "<Figure size 432x288 with 2 Axes>"
      ]
     },
     "metadata": {
      "needs_background": "light"
     },
     "output_type": "display_data"
    }
   ],
   "source": [
    "#contour\n",
    "\n",
    "fig,(ax1,ax2) = plt.subplots(1,2,sharex=True,sharey=True)\n",
    "ax1.contour(nimg,cmap=\"magma\",levels=[20,600,1000])\n",
    "ax1.set_aspect('equal')\n",
    "ax2.imshow(nimg, cmap=\"magma\")"
   ]
  },
  {
   "cell_type": "code",
   "execution_count": 158,
   "metadata": {},
   "outputs": [
    {
     "data": {
      "image/png": "[encoded data removed]",
      "text/plain": [
       "<Figure size 432x288 with 1 Axes>"
      ]
     },
     "metadata": {
      "needs_background": "light"
     },
     "output_type": "display_data"
    }
   ],
   "source": [
    "#contourf: contour filter \n",
    "fig,ax=plt.subplots()\n",
    "_=ax.contourf(nimg,cmap=\"plasma\",levels=[20,600,1000])"
   ]
  }
 ],
 "metadata": {
  "kernelspec": {
   "display_name": "Python 3",
   "language": "python",
   "name": "python3"
  },
  "language_info": {
   "codemirror_mode": {
    "name": "ipython",
    "version": 3
   },
   "file_extension": ".py",
   "mimetype": "text/x-python",
   "name": "python",
   "nbconvert_exporter": "python",
   "pygments_lexer": "ipython3",
   "version": "3.8.2"
  }
 },
 "nbformat": 4,
 "nbformat_minor": 4
}
