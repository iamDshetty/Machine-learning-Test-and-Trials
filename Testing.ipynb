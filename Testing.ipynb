{
 "cells": [
  {
   "cell_type": "code",
   "execution_count": null,
   "metadata": {},
   "outputs": [],
   "source": [
    "import pandas as pd\n",
    "import numpy as np\n",
    "import matplotlib.pyplot as plt\n",
    "import seaborn as sns\n",
    "\n",
    "from sklearn.linear_model import LogisticRegression\n",
    "\n",
    "data = {'age':[22,23,34,35],'sal':[2000,3000,4000,5000]}\n",
    "test = {'age':[22,23,34,35],'sal':[2000,3000,4000,5000]}\n",
    "df = pd.DataFrame(data)\n",
    "\n",
    "lr = LogisticRegression()\n",
    "x = df[\"age\"]\n",
    "y=df['sal']\n",
    "x = pd.DataFrame(\n",
    "    x)\n",
    "y= pd.DataFrame(y)\n",
    "\n",
    "lr.fit(x,y)\n",
    "lr.score(x,y)\n",
    "#lr.coef_\n",
    "#sns.heatmap(df.isna())\n",
    "\n",
    "dftest = pd.DataFrame(test)\n",
    "a = dftest['age']\n",
    "b = dftest['sal']\n",
    "a = pd.DataFrame(a)\n",
    "b= pd.DataFrame(b)\n",
    "\n",
    "yp = lr.predict(a)\n",
    "yp\n",
    "\n",
    "from sklearn.metrics import r2_score\n",
    "r2s = r2_score(b,yp)\n",
    "r2s\n"
   ]
  }
 ],
 "metadata": {
  "kernelspec": {
   "display_name": "Python 3",
   "language": "python",
   "name": "python3"
  },
  "language_info": {
   "codemirror_mode": {
    "name": "ipython",
    "version": 3
   },
   "file_extension": ".py",
   "mimetype": "text/x-python",
   "name": "python",
   "nbconvert_exporter": "python",
   "pygments_lexer": "ipython3",
   "version": "3.8.2"
  }
 },
 "nbformat": 4,
 "nbformat_minor": 4
}
