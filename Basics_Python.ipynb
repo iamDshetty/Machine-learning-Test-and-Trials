{
 "cells": [
  {
   "cell_type": "code",
   "execution_count": 168,
   "metadata": {},
   "outputs": [
    {
     "name": "stdout",
     "output_type": "stream",
     "text": [
      "1 srinivas\n",
      "2 raja\n",
      "3 nisha\n",
      "4 nirisksha\n",
      "5 laxmi\n",
      "6 chandra\n"
     ]
    },
    {
     "data": {
      "text/plain": [
       "2283444104968"
      ]
     },
     "execution_count": 168,
     "metadata": {},
     "output_type": "execute_result"
    }
   ],
   "source": [
    "#print('chandra {} {} world'.format(\"is\",'my'))\n",
    "\n",
    "i = \"is\"\n",
    "y = \"my\"\n",
    "#print(f'Chandra {i} {y} world')\n",
    "\n",
    "dir(i)\n",
    "\n",
    "\n",
    "\n",
    "Names = [\"raja\",\"chandra\",\"srinivas\",'laxmi']\n",
    "Names1 = [\"nirisksha\",\"Ananya\"]\n",
    "Names.append('nisha')\n",
    "Names.insert(0,'shetty')\n",
    "Names.extend(Names1)\n",
    "Names.remove(\"shetty\")\n",
    "Names.pop() # remove last index\n",
    "Names.reverse()\n",
    "Names.sort()\n",
    "Names.sort(reverse=True)\n",
    "\n",
    "h = sorted(Names)\n",
    "h,Names\n",
    "Names\n",
    "num = [2,3,4,5,6,7]\n",
    "max(num)\n",
    "min(num)\n",
    "\n",
    "num.index(5)\n",
    "\n",
    "\"raja\" in Names\n",
    "\n",
    "#for index,name in enumerate(Names):\n",
    "    #print(index,name)\n",
    "\n",
    "    \n",
    "for index1,name1 in enumerate(Names, start=1 ):\n",
    "    print(index1,name1)\n",
    "\n",
    "num_str = ','.join(Names)  \n",
    "num_list = num_str.split(',')\n",
    "\n",
    "\n",
    "word = 'a,b,c,d'\n",
    "wordlist = word.split(',')\n",
    "wordlist[0]\n",
    "\n",
    "# []  List\n",
    "# () tuples\n",
    "# {} sets\n",
    "\n",
    "x = {'art','maths', 'history','comp'}\n",
    "y = {'art','history','economics'}\n",
    "\n",
    "\n",
    "emptylist = list() # or []\n",
    "empty_tuple = tuple() # or ()\n",
    "empty_sets = set() \n",
    "emptylist\n",
    "#print(x.difference(y)) #get non common values only\n",
    "#print(x.intersection(y)) #get common value\n",
    "\n",
    "id(emptylist) # memory location"
   ]
  },
  {
   "cell_type": "code",
   "execution_count": 151,
   "metadata": {},
   "outputs": [
    {
     "name": "stdout",
     "output_type": "stream",
     "text": [
      "name : Chandra\n",
      "age : 28\n",
      "course : ['ML', 'AI']\n",
      "1 : genious\n",
      "phone : 8553657958\n",
      "company : silvan\n"
     ]
    }
   ],
   "source": [
    "#dictionaries  #similar to json but different\n",
    "\n",
    "#it has keys and properties \n",
    "\n",
    "student = {'name':'Chandra','age':29,'course':['ML','AI'],1:'genious'} \n",
    "student['name']\n",
    "student[1]\n",
    "student.get('phone','not found') # this will return 'not found' if 'phone' is not found in dictionary\n",
    "\n",
    "student['phone'] = '8553657958'\n",
    "student['age'] = 28\n",
    "student.update({'age':28,\"company\":'silvan'})\n",
    "\n",
    "student[\"course\"][1]\n",
    "\n",
    "#del student['age']  #delete the age\n",
    "#student.pop('age') #returns the property of the age and removes the age\n",
    "\n",
    "student.keys() \n",
    "student.values()\n",
    "student.items()\n",
    "\n",
    "for key in student:\n",
    "    #print(key)\n",
    "    pass\n",
    "\n",
    "for key,values in student.items():\n",
    "    #print(f'{key} : {values}')\n",
    "    print('{} : {}'.format(key,values))\n",
    "\n",
    "    "
   ]
  },
  {
   "cell_type": "code",
   "execution_count": 165,
   "metadata": {},
   "outputs": [
    {
     "name": "stdout",
     "output_type": "stream",
     "text": [
      "My name is chandra\n"
     ]
    }
   ],
   "source": [
    "#  Conditional statements\n",
    "\n",
    "# ==,!=,>,<,>=,<=, is(based on object where it is stored) \n",
    "\n",
    "\n",
    "name = 'chandra'\n",
    "if name == 'chandra':\n",
    "    print(f'My name is {name}')\n",
    "elif name=='raju':\n",
    "    print(\"manga\")\n",
    "else:\n",
    "    print(\"hhh\")\n",
    "    \n",
    "    \n",
    "    "
   ]
  },
  {
   "cell_type": "code",
   "execution_count": 178,
   "metadata": {},
   "outputs": [
    {
     "name": "stdout",
     "output_type": "stream",
     "text": [
      "please log in\n"
     ]
    }
   ],
   "source": [
    "# and,or , not  (&&,|| ,<>) not used in python\n",
    "# None = false -- '0' is false  --- '',[] ,{},() this are false\n",
    "\n",
    "user = 'chandra'\n",
    "#logged_in = None\n",
    "logged_in = False\n",
    "\n",
    "if  not logged_in:\n",
    "    print('please log in')\n",
    "else:\n",
    "    print('welcome')"
   ]
  },
  {
   "cell_type": "code",
   "execution_count": 202,
   "metadata": {},
   "outputs": [
    {
     "name": "stdout",
     "output_type": "stream",
     "text": [
      "0\n",
      "1\n",
      "2\n",
      "3\n",
      "4\n",
      "5\n",
      "6\n",
      "7\n",
      "8\n",
      "9\n"
     ]
    }
   ],
   "source": [
    "# Loops\n",
    "\n",
    "#break = break out of loop\n",
    "# continue  = jump to next iteration without continuing\n",
    "\n",
    "nums = [1,2,3,4,5,6]\n",
    "\n",
    "# For loops\n",
    "\n",
    "for x in nums:\n",
    "    if x == 4:\n",
    "        continue\n",
    "    #print(x)\n",
    "    pass\n",
    "\n",
    "for x in nums:\n",
    "    for y in range(10):\n",
    "        #print(x,y)\n",
    "        pass\n",
    "    pass\n",
    "\n",
    "for x in range(1,10):  # (1,10 ,2)   1 to 9 with a skip of 2\n",
    "    #print(x)\n",
    "    pass\n",
    "\n",
    "\n",
    "# While loop\n",
    "# cntrl C to stop infinite loop\n",
    "\n",
    "x = 0\n",
    "while x <10:\n",
    "    print(x)\n",
    "    x +=1\n",
    "\n",
    "    \n",
    "    "
   ]
  },
  {
   "cell_type": "code",
   "execution_count": 245,
   "metadata": {},
   "outputs": [
    {
     "data": {
      "text/plain": [
       "(('a', 'b'), {'name': 'chandra'})"
      ]
     },
     "execution_count": 245,
     "metadata": {},
     "output_type": "execute_result"
    }
   ],
   "source": [
    "#Functions\n",
    "\n",
    "def hello(a,name='you'):\n",
    "    return a + \" \" +name\n",
    "    pass\n",
    "\n",
    "hello('Hi','uscchj')\n",
    "    \n",
    "\n",
    "def ho(*arg , **kwargs): #args= tuple and Kwargs= dictonary\n",
    "    return arg,kwargs\n",
    "\n",
    "ho(1,2)\n",
    "\n",
    "x =('a',\"b\")\n",
    "y = {'name':'chandra'}\n",
    "ho(*x,**y)    # '*' to be used properly\n",
    "    \n",
    "\n"
   ]
  },
  {
   "cell_type": "code",
   "execution_count": 254,
   "metadata": {},
   "outputs": [],
   "source": [
    "# Import \n",
    "\n",
    "#import module\n",
    "#import module as md\n",
    "#from module import * # import all function inside the module\n",
    "#from module import function  # import perticular function inside the module\n",
    "#from module import function, function2 # import perticular 2  functions inside the module\n",
    "#from module import function as fn # import a function and name as fn\n",
    "\n",
    "#\n",
    "import sys \n",
    "sys.path # where all the modules present \n",
    "sys.path.append('/Users/lenovo/linear_Regression') #this will add modules which is not there in sys path \n",
    "#add file path  in python envirnonmnet variables \n",
    "#import linear_Regression\n",
    "\n"
   ]
  },
  {
   "cell_type": "code",
   "execution_count": 281,
   "metadata": {},
   "outputs": [
    {
     "data": {
      "text/plain": [
       "['maths']"
      ]
     },
     "execution_count": 281,
     "metadata": {},
     "output_type": "execute_result"
    }
   ],
   "source": [
    "# Random module or library\n",
    "\n",
    "import random\n",
    "courses = [\"art\", 'science','maths']\n",
    "random.choices(courses)\n",
    "\n",
    "#dir(random)"
   ]
  },
  {
   "cell_type": "code",
   "execution_count": 291,
   "metadata": {},
   "outputs": [
    {
     "data": {
      "text/plain": [
       "['__doc__',\n",
       " '__loader__',\n",
       " '__name__',\n",
       " '__package__',\n",
       " '__spec__',\n",
       " 'acos',\n",
       " 'acosh',\n",
       " 'asin',\n",
       " 'asinh',\n",
       " 'atan',\n",
       " 'atan2',\n",
       " 'atanh',\n",
       " 'ceil',\n",
       " 'copysign',\n",
       " 'cos',\n",
       " 'cosh',\n",
       " 'degrees',\n",
       " 'e',\n",
       " 'erf',\n",
       " 'erfc',\n",
       " 'exp',\n",
       " 'expm1',\n",
       " 'fabs',\n",
       " 'factorial',\n",
       " 'floor',\n",
       " 'fmod',\n",
       " 'frexp',\n",
       " 'fsum',\n",
       " 'gamma',\n",
       " 'gcd',\n",
       " 'hypot',\n",
       " 'inf',\n",
       " 'isclose',\n",
       " 'isfinite',\n",
       " 'isinf',\n",
       " 'isnan',\n",
       " 'ldexp',\n",
       " 'lgamma',\n",
       " 'log',\n",
       " 'log10',\n",
       " 'log1p',\n",
       " 'log2',\n",
       " 'modf',\n",
       " 'nan',\n",
       " 'pi',\n",
       " 'pow',\n",
       " 'radians',\n",
       " 'remainder',\n",
       " 'sin',\n",
       " 'sinh',\n",
       " 'sqrt',\n",
       " 'tan',\n",
       " 'tanh',\n",
       " 'tau',\n",
       " 'trunc']"
      ]
     },
     "execution_count": 291,
     "metadata": {},
     "output_type": "execute_result"
    }
   ],
   "source": [
    "import math\n",
    "radians = math.radians(90)\n",
    "math.sin(radians)\n",
    "\n",
    "dir(math)"
   ]
  },
  {
   "cell_type": "code",
   "execution_count": 292,
   "metadata": {},
   "outputs": [
    {
     "data": {
      "text/plain": [
       "['Calendar',\n",
       " 'EPOCH',\n",
       " 'FRIDAY',\n",
       " 'February',\n",
       " 'HTMLCalendar',\n",
       " 'IllegalMonthError',\n",
       " 'IllegalWeekdayError',\n",
       " 'January',\n",
       " 'LocaleHTMLCalendar',\n",
       " 'LocaleTextCalendar',\n",
       " 'MONDAY',\n",
       " 'SATURDAY',\n",
       " 'SUNDAY',\n",
       " 'THURSDAY',\n",
       " 'TUESDAY',\n",
       " 'TextCalendar',\n",
       " 'WEDNESDAY',\n",
       " '_EPOCH_ORD',\n",
       " '__all__',\n",
       " '__builtins__',\n",
       " '__cached__',\n",
       " '__doc__',\n",
       " '__file__',\n",
       " '__loader__',\n",
       " '__name__',\n",
       " '__package__',\n",
       " '__spec__',\n",
       " '_colwidth',\n",
       " '_locale',\n",
       " '_localized_day',\n",
       " '_localized_month',\n",
       " '_spacing',\n",
       " 'c',\n",
       " 'calendar',\n",
       " 'datetime',\n",
       " 'day_abbr',\n",
       " 'day_name',\n",
       " 'different_locale',\n",
       " 'error',\n",
       " 'firstweekday',\n",
       " 'format',\n",
       " 'formatstring',\n",
       " 'isleap',\n",
       " 'leapdays',\n",
       " 'main',\n",
       " 'mdays',\n",
       " 'month',\n",
       " 'month_abbr',\n",
       " 'month_name',\n",
       " 'monthcalendar',\n",
       " 'monthlen',\n",
       " 'monthrange',\n",
       " 'nextmonth',\n",
       " 'prcal',\n",
       " 'prevmonth',\n",
       " 'prmonth',\n",
       " 'prweek',\n",
       " 'repeat',\n",
       " 'setfirstweekday',\n",
       " 'sys',\n",
       " 'timegm',\n",
       " 'week',\n",
       " 'weekday',\n",
       " 'weekheader']"
      ]
     },
     "execution_count": 292,
     "metadata": {},
     "output_type": "execute_result"
    }
   ],
   "source": [
    "import calendar\n",
    "\n",
    "dir(calendar)"
   ]
  },
  {
   "cell_type": "code",
   "execution_count": 298,
   "metadata": {},
   "outputs": [
    {
     "data": {
      "text/plain": [
       "'C:\\\\Users\\\\lenovo\\\\anaconda3\\\\lib\\\\os.py'"
      ]
     },
     "execution_count": 298,
     "metadata": {},
     "output_type": "execute_result"
    }
   ],
   "source": [
    "import os\n",
    "\n",
    "dir(os)\n",
    "#os.getcwd()\n",
    "os.__file__  #  '__'  dunder symbol "
   ]
  },
  {
   "cell_type": "code",
   "execution_count": 306,
   "metadata": {},
   "outputs": [
    {
     "data": {
      "text/plain": [
       "'chandra'"
      ]
     },
     "execution_count": 306,
     "metadata": {},
     "output_type": "execute_result"
    }
   ],
   "source": [
    "# Class and Instances\n",
    "\n",
    "#class will have n no of function which are called as methods\n",
    "# class is like blue prints\n",
    "# instances are used to call class \n",
    "# instances.attributes \n",
    "\n",
    "\n",
    "class Employees:\n",
    "    pass\n",
    "\n",
    "emp1 = Employees()  # emp1 is instance Employes() is class\n",
    "emp2 = Employees() # n of instances can be created of class\n",
    "\n",
    "emp1.name = \"chandra\"  # name is attributes\n",
    "\n",
    "emp1.name\n",
    "\n",
    "    \n"
   ]
  },
  {
   "cell_type": "code",
   "execution_count": 327,
   "metadata": {},
   "outputs": [
    {
     "data": {
      "text/plain": [
       "'chandra12 age is 27 and email is chandra12@gmail.com'"
      ]
     },
     "execution_count": 327,
     "metadata": {},
     "output_type": "execute_result"
    }
   ],
   "source": [
    "class Employees:\n",
    "    def __init__(self,name,age):          # this is called as instructor\n",
    "        self.name = name\n",
    "        self.age = age\n",
    "        self.email = f'{name}@gmail.com'\n",
    "        pass\n",
    "    def fulldata(self):\n",
    "        return f'{self.name} age is {self.age} and email is {self.email}'\n",
    "        \n",
    "    \n",
    "chandra = Employees('chandra12',27)\n",
    "chandra.fulldata() #best way\n",
    "\n",
    "Employees.fulldata(chandra) #another way\n",
    "        "
   ]
  },
  {
   "cell_type": "code",
   "execution_count": 337,
   "metadata": {},
   "outputs": [
    {
     "data": {
      "text/plain": [
       "2"
      ]
     },
     "execution_count": 337,
     "metadata": {},
     "output_type": "execute_result"
    }
   ],
   "source": [
    "# Class variable\n",
    "\n",
    "class Employees:\n",
    "    no_of_employees = 0\n",
    "    raise_amount = 1.4\n",
    "    def __init__(self,name,age,pay):          # this is called as instructor\n",
    "        self.name = name\n",
    "        self.age = age\n",
    "        self.email = f'{name}@gmail.com'\n",
    "        self.pay = pay\n",
    "        Employees.no_of_employees +=1\n",
    "        pass\n",
    "    def fulldata(self):\n",
    "        return f'{self.name} age is {self.age} and email is {self.email}'\n",
    "    def raise_amt(self):\n",
    "        return self.pay * self.raise_amount\n",
    "    pass\n",
    "\n",
    "        \n",
    "    \n",
    "chandra = Employees('chandra12',27,5000)\n",
    "raju = Employees('raju',25,4000)\n",
    "\n",
    "\n",
    "chandra.raise_amt()\n",
    "raju.raise_amt()\n",
    "\n",
    "chandra.raise_amount = 2\n",
    "\n",
    "raju.raise_amt()\n",
    "Employees.no_of_employees"
   ]
  },
  {
   "cell_type": "code",
   "execution_count": 9,
   "metadata": {},
   "outputs": [],
   "source": [
    "# Class Methods \n",
    "\n",
    "str.contains()"
   ]
  }
 ],
 "metadata": {
  "kernelspec": {
   "display_name": "Python 3",
   "language": "python",
   "name": "python3"
  },
  "language_info": {
   "codemirror_mode": {
    "name": "ipython",
    "version": 3
   },
   "file_extension": ".py",
   "mimetype": "text/x-python",
   "name": "python",
   "nbconvert_exporter": "python",
   "pygments_lexer": "ipython3",
   "version": "3.8.2"
  }
 },
 "nbformat": 4,
 "nbformat_minor": 4
}
