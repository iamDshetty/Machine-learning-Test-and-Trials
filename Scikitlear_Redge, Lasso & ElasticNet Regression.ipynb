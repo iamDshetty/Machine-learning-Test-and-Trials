{
 "cells": [
  {
   "cell_type": "code",
   "execution_count": 87,
   "metadata": {},
   "outputs": [
    {
     "data": {
      "text/plain": [
       "(array([1.08821725, 0.83102247]), array([-0.10321885,  0.40015721]))"
      ]
     },
     "execution_count": 87,
     "metadata": {},
     "output_type": "execute_result"
    }
   ],
   "source": [
    "# Ridge Regression: y=mx+c+(lamda(m)**2)  ....lambda = alpha\n",
    "# multpiple Ridge regression : y=C+m1x1+m2x2+m3x3...+(lamda(m1+m2+m3...)**2) \n",
    "\n",
    "import numpy as np\n",
    "import matplotlib.pyplot as plt\n",
    "%matplotlib inline\n",
    "n_samples, n_features = 10, 5\n",
    "rng = np.random.RandomState(0)\n",
    "y = rng.randn(n_samples)\n",
    "X = rng.randn(n_samples, n_features)\n",
    "\n",
    "from sklearn.model_selection import train_test_split\n",
    "\n",
    "X_train,X_test,y_train,y_test = train_test_split(X,y,test_size = 0.2)\n",
    "\n",
    "from sklearn.linear_model import Ridge\n",
    "\n",
    "clf = Ridge(alpha=1)\n",
    "clf.fit(X_train, y_train)\n",
    "yp = clf.predict(X_test) \n",
    "clf.score(X_train,y_train)\n",
    "\n",
    "yp,y_test"
   ]
  },
  {
   "cell_type": "code",
   "execution_count": 77,
   "metadata": {},
   "outputs": [
    {
     "data": {
      "image/png": "[encoded data removed]",
      "text/plain": [
       "<Figure size 432x288 with 2 Axes>"
      ]
     },
     "metadata": {
      "needs_background": "light"
     },
     "output_type": "display_data"
    }
   ],
   "source": [
    "\n",
    "fig,(ax,ax1) =plt.subplots(nrows=1,ncols=2)\n",
    "for i in range(5):\n",
    "    _=ax.scatter(X_train[:,i],y_train)\n",
    "    _=ax1.scatter(X_test[:,i],yp)\n",
    "_=ax.set_title(\"Train Data\")\n",
    "_=ax1.set_title(\"Test Data vs Y_predicted\")"
   ]
  },
  {
   "cell_type": "code",
   "execution_count": 88,
   "metadata": {},
   "outputs": [
    {
     "data": {
      "text/plain": [
       "(array([0.88541167, 0.88541167]), array([-0.10321885,  0.40015721]))"
      ]
     },
     "execution_count": 88,
     "metadata": {},
     "output_type": "execute_result"
    }
   ],
   "source": [
    "# Lasso Regression: y=mx+c+(lamda|(m)|)  ....lambda = alpha, magnitude|| = hightest value\n",
    "# multpiple Lasso regression : y=C+m1x1+m2x2+m3x3...+(lamda|m1+m2+m3...|) \n",
    "\n",
    "\n",
    "from sklearn.linear_model import Lasso\n",
    "\n",
    "lass = Lasso()\n",
    "lass.fit(X_train,y_train)\n",
    "lass.score(X_train,y_train)\n",
    "\n",
    "lass.predict(X_test),y_test\n"
   ]
  },
  {
   "cell_type": "code",
   "execution_count": 97,
   "metadata": {},
   "outputs": [
    {
     "data": {
      "text/plain": [
       "(array([ 1.76405235,  0.40015721,  0.97873798,  2.2408932 ,  1.86755799,\n",
       "        -0.97727788,  0.95008842, -0.15135721, -0.10321885,  0.4105985 ]),\n",
       " array([0.88541167, 0.88541167, 0.88541167, 0.88541167, 0.88541167,\n",
       "        0.88541167, 0.88541167, 0.88541167]))"
      ]
     },
     "execution_count": 97,
     "metadata": {},
     "output_type": "execute_result"
    }
   ],
   "source": [
    "# Elastic Net Regression i..e, hybrid of ridge and lasso regresion\n",
    "# y=mx+c+lambda1(|m|)+lambda2(m**2)  .. lasso+ridge \n",
    "\n",
    "from sklearn.linear_model import ElasticNet\n",
    "\n",
    "EN=ElasticNet()\n",
    "EN.fit(X_train,y_train)\n",
    "\n",
    "EN.score(X_train,y_train)\n",
    "yp = EN.predict(X_train)\n",
    "y,yp"
   ]
  },
  {
   "cell_type": "code",
   "execution_count": null,
   "metadata": {},
   "outputs": [],
   "source": []
  }
 ],
 "metadata": {
  "kernelspec": {
   "display_name": "Python 3",
   "language": "python",
   "name": "python3"
  },
  "language_info": {
   "codemirror_mode": {
    "name": "ipython",
    "version": 3
   },
   "file_extension": ".py",
   "mimetype": "text/x-python",
   "name": "python",
   "nbconvert_exporter": "python",
   "pygments_lexer": "ipython3",
   "version": "3.8.2"
  }
 },
 "nbformat": 4,
 "nbformat_minor": 4
}
